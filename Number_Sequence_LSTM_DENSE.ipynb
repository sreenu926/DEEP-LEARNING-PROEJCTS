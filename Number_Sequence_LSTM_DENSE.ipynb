{
  "nbformat": 4,
  "nbformat_minor": 0,
  "metadata": {
    "colab": {
      "name": "Number_Sequence_LSTM_DENSE.ipynb",
      "provenance": []
    },
    "kernelspec": {
      "name": "python3",
      "display_name": "Python 3"
    },
    "language_info": {
      "name": "python"
    }
  },
  "cells": [
    {
      "cell_type": "markdown",
      "source": [
        "# **NUMBER SEQUENCE_LSTM_DENSE**"
      ],
      "metadata": {
        "id": "UMGrJr-AoUES"
      }
    },
    {
      "cell_type": "code",
      "source": [
        "from google.colab import drive\n",
        "drive.mount('/content/drive')"
      ],
      "metadata": {
        "colab": {
          "base_uri": "https://localhost:8080/"
        },
        "id": "_BNjyVARpJXd",
        "outputId": "db09dbff-1f0b-4a21-e5c4-6c11ebc976d2"
      },
      "execution_count": 1,
      "outputs": [
        {
          "output_type": "stream",
          "name": "stdout",
          "text": [
            "Mounted at /content/drive\n"
          ]
        }
      ]
    },
    {
      "cell_type": "code",
      "source": [
        "# Importing Libraries\n",
        "\n",
        "import numpy as np\n",
        "import matplotlib.pyplot as plt\n",
        "import pandas as pd\n",
        "import seaborn as sns\n",
        "\n",
        "\n",
        "import tensorflow as tf\n",
        "from tensorflow import keras\n",
        "from tensorflow.keras import layers\n",
        "\n",
        "data = [10, 20, 30, 40, 50, 60, 70, 80, 90, 100, 110, 120, 130, 140, 150, 160, 170, 180, 190, 200]\n",
        "print(data)"
      ],
      "metadata": {
        "colab": {
          "base_uri": "https://localhost:8080/"
        },
        "id": "X_7NVVP2pVVY",
        "outputId": "46b7f5dd-f05a-4c81-e85c-40c83736de65"
      },
      "execution_count": 2,
      "outputs": [
        {
          "output_type": "stream",
          "name": "stdout",
          "text": [
            "[10, 20, 30, 40, 50, 60, 70, 80, 90, 100, 110, 120, 130, 140, 150, 160, 170, 180, 190, 200]\n"
          ]
        }
      ]
    },
    {
      "cell_type": "code",
      "source": [
        "def splitSequence(seq, n_steps):\n",
        "    \n",
        "    #Declare X and y as empty list\n",
        "    X = []\n",
        "    y = []\n",
        "    \n",
        "    for i in range(len(seq)):\n",
        "        #get the last index\n",
        "        lastIndex = i + n_steps\n",
        "        \n",
        "        #if lastIndex is greater than length of sequence then break\n",
        "        if lastIndex > len(seq) - 1:\n",
        "            break\n",
        "            \n",
        "        #Create input and output sequence\n",
        "        seq_X, seq_y = seq[i:lastIndex], seq[lastIndex]\n",
        "        \n",
        "        #append seq_X, seq_y in X and y list\n",
        "        X.append(seq_X)\n",
        "        y.append(seq_y)\n",
        "        pass\n",
        "    #Convert X and y into numpy array\n",
        "    X = np.array(X)\n",
        "    y = np.array(y)\n",
        "    \n",
        "    return X,y\n",
        "\n",
        "n_steps = 7\n",
        "X, y = splitSequence(data, n_steps)\n",
        "\n",
        "print(X)"
      ],
      "metadata": {
        "colab": {
          "base_uri": "https://localhost:8080/"
        },
        "id": "OhAuNgM3prv5",
        "outputId": "f41ea271-c56b-44bf-8673-93605b6f8198"
      },
      "execution_count": 3,
      "outputs": [
        {
          "output_type": "stream",
          "name": "stdout",
          "text": [
            "[[ 10  20  30  40  50  60  70]\n",
            " [ 20  30  40  50  60  70  80]\n",
            " [ 30  40  50  60  70  80  90]\n",
            " [ 40  50  60  70  80  90 100]\n",
            " [ 50  60  70  80  90 100 110]\n",
            " [ 60  70  80  90 100 110 120]\n",
            " [ 70  80  90 100 110 120 130]\n",
            " [ 80  90 100 110 120 130 140]\n",
            " [ 90 100 110 120 130 140 150]\n",
            " [100 110 120 130 140 150 160]\n",
            " [110 120 130 140 150 160 170]\n",
            " [120 130 140 150 160 170 180]\n",
            " [130 140 150 160 170 180 190]]\n"
          ]
        }
      ]
    },
    {
      "cell_type": "code",
      "source": [
        "print(y)"
      ],
      "metadata": {
        "colab": {
          "base_uri": "https://localhost:8080/"
        },
        "id": "f5CNq8TMpzyE",
        "outputId": "68d25040-f097-4604-b2c4-e0540304cfa9"
      },
      "execution_count": 4,
      "outputs": [
        {
          "output_type": "stream",
          "name": "stdout",
          "text": [
            "[ 80  90 100 110 120 130 140 150 160 170 180 190 200]\n"
          ]
        }
      ]
    },
    {
      "cell_type": "code",
      "source": [
        "# reshape from [samples, timesteps] into [samples, timesteps, features]\n",
        "\n",
        "n_features = 1\n",
        "X = X.reshape((X.shape[0], X.shape[1], n_features))\n",
        "print(X[:2])"
      ],
      "metadata": {
        "colab": {
          "base_uri": "https://localhost:8080/"
        },
        "id": "11MkInb-p5G-",
        "outputId": "cb622e52-027c-4e3d-95db-b8253f78dcfb"
      },
      "execution_count": 5,
      "outputs": [
        {
          "output_type": "stream",
          "name": "stdout",
          "text": [
            "[[[10]\n",
            "  [20]\n",
            "  [30]\n",
            "  [40]\n",
            "  [50]\n",
            "  [60]\n",
            "  [70]]\n",
            "\n",
            " [[20]\n",
            "  [30]\n",
            "  [40]\n",
            "  [50]\n",
            "  [60]\n",
            "  [70]\n",
            "  [80]]]\n"
          ]
        }
      ]
    },
    {
      "cell_type": "code",
      "source": [
        "# Creating the model:\n",
        "\n",
        "model = tf.keras.Sequential()\n",
        "model.add(layers.LSTM(50, activation='relu', input_shape=(n_steps, n_features)))\n",
        "model.add(layers.Dense(1))\n",
        "\n",
        "model.summary()"
      ],
      "metadata": {
        "colab": {
          "base_uri": "https://localhost:8080/"
        },
        "id": "Q4Q0JAldqBc4",
        "outputId": "a602cda6-145a-4bef-f82a-f49030720192"
      },
      "execution_count": 6,
      "outputs": [
        {
          "output_type": "stream",
          "name": "stdout",
          "text": [
            "Model: \"sequential\"\n",
            "_________________________________________________________________\n",
            " Layer (type)                Output Shape              Param #   \n",
            "=================================================================\n",
            " lstm (LSTM)                 (None, 50)                10400     \n",
            "                                                                 \n",
            " dense (Dense)               (None, 1)                 51        \n",
            "                                                                 \n",
            "=================================================================\n",
            "Total params: 10,451\n",
            "Trainable params: 10,451\n",
            "Non-trainable params: 0\n",
            "_________________________________________________________________\n"
          ]
        }
      ]
    },
    {
      "cell_type": "code",
      "source": [
        "# Splitting the dataset into training and testing datasets\n",
        "\n",
        "from sklearn.model_selection import train_test_split\n",
        "\n",
        "X_train, X_test, y_train, y_test = train_test_split(X, y, test_size=0.2)\n",
        "\n",
        "model.compile(optimizer=tf.keras.optimizers.Adam(0.001), loss=tf.keras.losses.MeanSquaredError())\n",
        "\n",
        "# Training the model\n",
        "\n",
        "print(\"Fit model on training data\")\n",
        "\n",
        "history = model.fit(\n",
        "    X_train,\n",
        "    y_train,\n",
        "    batch_size=64,\n",
        "    epochs=100,\n",
        "    # We pass some validation for\n",
        "    # monitoring validation loss and metrics\n",
        "    # at the end of each epoch\n",
        "    validation_data=(X_test, y_test), verbose=1\n",
        ")"
      ],
      "metadata": {
        "colab": {
          "base_uri": "https://localhost:8080/"
        },
        "id": "lbVZ7OvYqVk9",
        "outputId": "a1ec79ac-44d5-44f9-c5b9-4cc06890479b"
      },
      "execution_count": 7,
      "outputs": [
        {
          "output_type": "stream",
          "name": "stdout",
          "text": [
            "Fit model on training data\n",
            "Epoch 1/100\n",
            "1/1 [==============================] - 2s 2s/step - loss: 17078.2695 - val_loss: 15226.3516\n",
            "Epoch 2/100\n",
            "1/1 [==============================] - 0s 37ms/step - loss: 13504.3857 - val_loss: 13208.4287\n",
            "Epoch 3/100\n",
            "1/1 [==============================] - 0s 40ms/step - loss: 11352.0488 - val_loss: 9225.9062\n",
            "Epoch 4/100\n",
            "1/1 [==============================] - 0s 34ms/step - loss: 8051.9814 - val_loss: 5396.9604\n",
            "Epoch 5/100\n",
            "1/1 [==============================] - 0s 37ms/step - loss: 5082.0312 - val_loss: 4169.0723\n",
            "Epoch 6/100\n",
            "1/1 [==============================] - 0s 36ms/step - loss: 3918.6831 - val_loss: 3692.0085\n",
            "Epoch 7/100\n",
            "1/1 [==============================] - 0s 37ms/step - loss: 3462.0747 - val_loss: 3168.3047\n",
            "Epoch 8/100\n",
            "1/1 [==============================] - 0s 35ms/step - loss: 3053.3110 - val_loss: 2640.1133\n",
            "Epoch 9/100\n",
            "1/1 [==============================] - 0s 33ms/step - loss: 2615.8171 - val_loss: 2158.5405\n",
            "Epoch 10/100\n",
            "1/1 [==============================] - 0s 35ms/step - loss: 2196.1238 - val_loss: 1744.1793\n",
            "Epoch 11/100\n",
            "1/1 [==============================] - 0s 39ms/step - loss: 1825.7789 - val_loss: 1410.5692\n",
            "Epoch 12/100\n",
            "1/1 [==============================] - 0s 44ms/step - loss: 1516.5632 - val_loss: 1147.7941\n",
            "Epoch 13/100\n",
            "1/1 [==============================] - 0s 35ms/step - loss: 1263.0076 - val_loss: 936.3169\n",
            "Epoch 14/100\n",
            "1/1 [==============================] - 0s 41ms/step - loss: 1053.1647 - val_loss: 768.0941\n",
            "Epoch 15/100\n",
            "1/1 [==============================] - 0s 46ms/step - loss: 880.2184 - val_loss: 639.5790\n",
            "Epoch 16/100\n",
            "1/1 [==============================] - 0s 38ms/step - loss: 740.3770 - val_loss: 543.0667\n",
            "Epoch 17/100\n",
            "1/1 [==============================] - 0s 39ms/step - loss: 628.1252 - val_loss: 474.4241\n",
            "Epoch 18/100\n",
            "1/1 [==============================] - 0s 39ms/step - loss: 539.1837 - val_loss: 430.7213\n",
            "Epoch 19/100\n",
            "1/1 [==============================] - 0s 36ms/step - loss: 471.3441 - val_loss: 407.1339\n",
            "Epoch 20/100\n",
            "1/1 [==============================] - 0s 35ms/step - loss: 422.5304 - val_loss: 411.5100\n",
            "Epoch 21/100\n",
            "1/1 [==============================] - 0s 43ms/step - loss: 392.5233 - val_loss: 453.9007\n",
            "Epoch 22/100\n",
            "1/1 [==============================] - 0s 41ms/step - loss: 389.7690 - val_loss: 486.6168\n",
            "Epoch 23/100\n",
            "1/1 [==============================] - 0s 37ms/step - loss: 395.7990 - val_loss: 517.2222\n",
            "Epoch 24/100\n",
            "1/1 [==============================] - 0s 36ms/step - loss: 404.2907 - val_loss: 542.5964\n",
            "Epoch 25/100\n",
            "1/1 [==============================] - 0s 40ms/step - loss: 411.6037 - val_loss: 558.9649\n",
            "Epoch 26/100\n",
            "1/1 [==============================] - 0s 37ms/step - loss: 415.1106 - val_loss: 562.4198\n",
            "Epoch 27/100\n",
            "1/1 [==============================] - 0s 40ms/step - loss: 413.1244 - val_loss: 553.7707\n",
            "Epoch 28/100\n",
            "1/1 [==============================] - 0s 35ms/step - loss: 405.8010 - val_loss: 538.9306\n",
            "Epoch 29/100\n",
            "1/1 [==============================] - 0s 39ms/step - loss: 394.3732 - val_loss: 517.5408\n",
            "Epoch 30/100\n",
            "1/1 [==============================] - 0s 38ms/step - loss: 378.9732 - val_loss: 489.6222\n",
            "Epoch 31/100\n",
            "1/1 [==============================] - 0s 41ms/step - loss: 360.4516 - val_loss: 458.6702\n",
            "Epoch 32/100\n",
            "1/1 [==============================] - 0s 38ms/step - loss: 340.3878 - val_loss: 426.7992\n",
            "Epoch 33/100\n",
            "1/1 [==============================] - 0s 40ms/step - loss: 319.5872 - val_loss: 394.6584\n",
            "Epoch 34/100\n",
            "1/1 [==============================] - 0s 38ms/step - loss: 298.2913 - val_loss: 362.9897\n",
            "Epoch 35/100\n",
            "1/1 [==============================] - 0s 36ms/step - loss: 276.9625 - val_loss: 332.7001\n",
            "Epoch 36/100\n",
            "1/1 [==============================] - 0s 36ms/step - loss: 256.4700 - val_loss: 302.8160\n",
            "Epoch 37/100\n",
            "1/1 [==============================] - 0s 36ms/step - loss: 236.9640 - val_loss: 272.4273\n",
            "Epoch 38/100\n",
            "1/1 [==============================] - 0s 39ms/step - loss: 218.4829 - val_loss: 245.2271\n",
            "Epoch 39/100\n",
            "1/1 [==============================] - 0s 44ms/step - loss: 202.1172 - val_loss: 221.5557\n",
            "Epoch 40/100\n",
            "1/1 [==============================] - 0s 40ms/step - loss: 186.0418 - val_loss: 203.6839\n",
            "Epoch 41/100\n",
            "1/1 [==============================] - 0s 39ms/step - loss: 169.9367 - val_loss: 184.0675\n",
            "Epoch 42/100\n",
            "1/1 [==============================] - 0s 38ms/step - loss: 153.1743 - val_loss: 149.1783\n",
            "Epoch 43/100\n",
            "1/1 [==============================] - 0s 33ms/step - loss: 132.7968 - val_loss: 116.5277\n",
            "Epoch 44/100\n",
            "1/1 [==============================] - 0s 39ms/step - loss: 112.1562 - val_loss: 88.1540\n",
            "Epoch 45/100\n",
            "1/1 [==============================] - 0s 40ms/step - loss: 91.0318 - val_loss: 56.9761\n",
            "Epoch 46/100\n",
            "1/1 [==============================] - 0s 37ms/step - loss: 68.5967 - val_loss: 40.7481\n",
            "Epoch 47/100\n",
            "1/1 [==============================] - 0s 43ms/step - loss: 49.6126 - val_loss: 24.1428\n",
            "Epoch 48/100\n",
            "1/1 [==============================] - 0s 36ms/step - loss: 32.6812 - val_loss: 19.6976\n",
            "Epoch 49/100\n",
            "1/1 [==============================] - 0s 38ms/step - loss: 22.4481 - val_loss: 25.5774\n",
            "Epoch 50/100\n",
            "1/1 [==============================] - 0s 36ms/step - loss: 24.3960 - val_loss: 41.0817\n",
            "Epoch 51/100\n",
            "1/1 [==============================] - 0s 45ms/step - loss: 18.1963 - val_loss: 27.1574\n",
            "Epoch 52/100\n",
            "1/1 [==============================] - 0s 46ms/step - loss: 12.4710 - val_loss: 32.3361\n",
            "Epoch 53/100\n",
            "1/1 [==============================] - 0s 37ms/step - loss: 11.2949 - val_loss: 42.9293\n",
            "Epoch 54/100\n",
            "1/1 [==============================] - 0s 40ms/step - loss: 15.8654 - val_loss: 29.9087\n",
            "Epoch 55/100\n",
            "1/1 [==============================] - 0s 37ms/step - loss: 13.1480 - val_loss: 26.0961\n",
            "Epoch 56/100\n",
            "1/1 [==============================] - 0s 41ms/step - loss: 13.3817 - val_loss: 25.1481\n",
            "Epoch 57/100\n",
            "1/1 [==============================] - 0s 37ms/step - loss: 9.3516 - val_loss: 32.4070\n",
            "Epoch 58/100\n",
            "1/1 [==============================] - 0s 36ms/step - loss: 12.3350 - val_loss: 17.2062\n",
            "Epoch 59/100\n",
            "1/1 [==============================] - 0s 39ms/step - loss: 6.8955 - val_loss: 13.0588\n",
            "Epoch 60/100\n",
            "1/1 [==============================] - 0s 40ms/step - loss: 7.5823 - val_loss: 10.1717\n",
            "Epoch 61/100\n",
            "1/1 [==============================] - 0s 57ms/step - loss: 3.3855 - val_loss: 14.7323\n",
            "Epoch 62/100\n",
            "1/1 [==============================] - 0s 43ms/step - loss: 7.5469 - val_loss: 7.1994\n",
            "Epoch 63/100\n",
            "1/1 [==============================] - 0s 36ms/step - loss: 6.8076 - val_loss: 6.2741\n",
            "Epoch 64/100\n",
            "1/1 [==============================] - 0s 35ms/step - loss: 6.8166 - val_loss: 6.1171\n",
            "Epoch 65/100\n",
            "1/1 [==============================] - 0s 35ms/step - loss: 3.1025 - val_loss: 8.7142\n",
            "Epoch 66/100\n",
            "1/1 [==============================] - 0s 40ms/step - loss: 5.5701 - val_loss: 2.8974\n",
            "Epoch 67/100\n",
            "1/1 [==============================] - 0s 35ms/step - loss: 4.1730 - val_loss: 3.7930\n",
            "Epoch 68/100\n",
            "1/1 [==============================] - 0s 37ms/step - loss: 6.1093 - val_loss: 2.3877\n",
            "Epoch 69/100\n",
            "1/1 [==============================] - 0s 35ms/step - loss: 1.7589 - val_loss: 9.0759\n",
            "Epoch 70/100\n",
            "1/1 [==============================] - 0s 37ms/step - loss: 6.5142 - val_loss: 1.1930\n",
            "Epoch 71/100\n",
            "1/1 [==============================] - 0s 34ms/step - loss: 1.6353 - val_loss: 2.7158\n",
            "Epoch 72/100\n",
            "1/1 [==============================] - 0s 37ms/step - loss: 4.8501 - val_loss: 1.0875\n",
            "Epoch 73/100\n",
            "1/1 [==============================] - 0s 37ms/step - loss: 1.4371 - val_loss: 5.8610\n",
            "Epoch 74/100\n",
            "1/1 [==============================] - 0s 37ms/step - loss: 3.4028 - val_loss: 3.5864\n",
            "Epoch 75/100\n",
            "1/1 [==============================] - 0s 44ms/step - loss: 1.6711 - val_loss: 1.5291\n",
            "Epoch 76/100\n",
            "1/1 [==============================] - 0s 31ms/step - loss: 1.7201 - val_loss: 2.0649\n",
            "Epoch 77/100\n",
            "1/1 [==============================] - 0s 33ms/step - loss: 2.4688 - val_loss: 1.9845\n",
            "Epoch 78/100\n",
            "1/1 [==============================] - 0s 35ms/step - loss: 0.6258 - val_loss: 5.1848\n",
            "Epoch 79/100\n",
            "1/1 [==============================] - 0s 37ms/step - loss: 2.2488 - val_loss: 2.8959\n",
            "Epoch 80/100\n",
            "1/1 [==============================] - 0s 41ms/step - loss: 0.8942 - val_loss: 1.6946\n",
            "Epoch 81/100\n",
            "1/1 [==============================] - 0s 40ms/step - loss: 1.2393 - val_loss: 1.8175\n",
            "Epoch 82/100\n",
            "1/1 [==============================] - 0s 39ms/step - loss: 1.6053 - val_loss: 1.7683\n",
            "Epoch 83/100\n",
            "1/1 [==============================] - 0s 38ms/step - loss: 0.5803 - val_loss: 3.5467\n",
            "Epoch 84/100\n",
            "1/1 [==============================] - 0s 36ms/step - loss: 1.4277 - val_loss: 2.4219\n",
            "Epoch 85/100\n",
            "1/1 [==============================] - 0s 36ms/step - loss: 0.7836 - val_loss: 1.3371\n",
            "Epoch 86/100\n",
            "1/1 [==============================] - 0s 45ms/step - loss: 0.6917 - val_loss: 1.4138\n",
            "Epoch 87/100\n",
            "1/1 [==============================] - 0s 37ms/step - loss: 1.0363 - val_loss: 1.2539\n",
            "Epoch 88/100\n",
            "1/1 [==============================] - 0s 37ms/step - loss: 0.3395 - val_loss: 2.2882\n",
            "Epoch 89/100\n",
            "1/1 [==============================] - 0s 37ms/step - loss: 0.7439 - val_loss: 1.8012\n",
            "Epoch 90/100\n",
            "1/1 [==============================] - 0s 37ms/step - loss: 0.5063 - val_loss: 0.8573\n",
            "Epoch 91/100\n",
            "1/1 [==============================] - 0s 37ms/step - loss: 0.3168 - val_loss: 0.8220\n",
            "Epoch 92/100\n",
            "1/1 [==============================] - 0s 38ms/step - loss: 0.6192 - val_loss: 0.6787\n",
            "Epoch 93/100\n",
            "1/1 [==============================] - 0s 35ms/step - loss: 0.2178 - val_loss: 1.3356\n",
            "Epoch 94/100\n",
            "1/1 [==============================] - 0s 36ms/step - loss: 0.4943 - val_loss: 1.0244\n",
            "Epoch 95/100\n",
            "1/1 [==============================] - 0s 37ms/step - loss: 0.3606 - val_loss: 0.4910\n",
            "Epoch 96/100\n",
            "1/1 [==============================] - 0s 36ms/step - loss: 0.3038 - val_loss: 0.5321\n",
            "Epoch 97/100\n",
            "1/1 [==============================] - 0s 37ms/step - loss: 0.4683 - val_loss: 0.5983\n",
            "Epoch 98/100\n",
            "1/1 [==============================] - 0s 38ms/step - loss: 0.2179 - val_loss: 1.1244\n",
            "Epoch 99/100\n",
            "1/1 [==============================] - 0s 36ms/step - loss: 0.4130 - val_loss: 0.8657\n",
            "Epoch 100/100\n",
            "1/1 [==============================] - 0s 37ms/step - loss: 0.2457 - val_loss: 0.6748\n"
          ]
        }
      ]
    },
    {
      "cell_type": "code",
      "source": [
        "# Predicting on data:\n",
        "\n",
        "test_data = np.array([90, 100, 110, 120, 130, 140, 150])\n",
        "test_data = test_data.reshape((1, n_steps, n_features))\n",
        "test_data"
      ],
      "metadata": {
        "colab": {
          "base_uri": "https://localhost:8080/"
        },
        "id": "GLQYm84HrAs1",
        "outputId": "730438cf-1e92-4c2f-d441-bf04261e7747"
      },
      "execution_count": 8,
      "outputs": [
        {
          "output_type": "execute_result",
          "data": {
            "text/plain": [
              "array([[[ 90],\n",
              "        [100],\n",
              "        [110],\n",
              "        [120],\n",
              "        [130],\n",
              "        [140],\n",
              "        [150]]])"
            ]
          },
          "metadata": {},
          "execution_count": 8
        }
      ]
    },
    {
      "cell_type": "code",
      "source": [
        "predictNextNumber = model.predict(test_data, verbose=1)\n",
        "print(predictNextNumber)"
      ],
      "metadata": {
        "colab": {
          "base_uri": "https://localhost:8080/"
        },
        "id": "7lQLRj8irF85",
        "outputId": "6eafac30-6d84-4589-e83f-ffd388787ee9"
      },
      "execution_count": 9,
      "outputs": [
        {
          "output_type": "stream",
          "name": "stdout",
          "text": [
            "1/1 [==============================] - 0s 215ms/step\n",
            "[[159.3239]]\n"
          ]
        }
      ]
    },
    {
      "cell_type": "code",
      "source": [
        "model.save(\"drive/MyDrive/Dataset/DataScience-Pianalytix-Models/NumberSequence.h5\")\n",
        "\n",
        "# Building graphs for the model:\n",
        "\n",
        "fig = plt.figure()\n",
        "fig.suptitle(\"Adam, lr=0.001, one hidden layer\")\n",
        "\n",
        "ax = fig.add_subplot(1,1, 1)\n",
        "ax.set_title('Cost')\n",
        "ax.plot(history.history['loss'], label='Training')\n",
        "ax.plot(history.history['val_loss'], label='Validation')\n",
        "ax.legend()\n",
        "\n",
        "fig.show()"
      ],
      "metadata": {
        "colab": {
          "base_uri": "https://localhost:8080/",
          "height": 294
        },
        "id": "HFottAEkrLhq",
        "outputId": "d67521fb-8a51-425a-a217-85d1cb9dc95f"
      },
      "execution_count": 10,
      "outputs": [
        {
          "output_type": "display_data",
          "data": {
            "text/plain": [
              "<Figure size 432x288 with 1 Axes>"
            ],
            "image/png": "[encoded data removed]"
          },
          "metadata": {
            "needs_background": "light"
          }
        }
      ]
    }
  ]
}